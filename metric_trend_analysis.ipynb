{
 "cells": [
  {
   "cell_type": "code",
   "execution_count": null,
   "id": "a44f02a3-c649-4d18-805c-ed478964d2bc",
   "metadata": {
    "editable": true,
    "slideshow": {
     "slide_type": ""
    },
    "tags": []
   },
   "outputs": [],
   "source": [
    "import numpy as np\n",
    "import matplotlib.pyplot as plt\n",
    "from lm_polygraph.ue_metrics.pred_rej_area import PredictionRejectionArea\n",
    "from lm_polygraph.ue_metrics.ue_metric import (\n",
    "    get_random_scores,\n",
    "    normalize_metric,\n",
    ")\n",
    "import sklearn\n",
    "from sklearn.preprocessing import MinMaxScaler\n",
    "import pandas as pd\n",
    "from collections import defaultdict\n",
    "from sacrebleu import CHRF, BLEU\n",
    "from utils import extract_and_prepare_data"
   ]
  },
  {
   "cell_type": "code",
   "execution_count": null,
   "id": "9ae45d8c-61a8-4e1f-af96-38d3fa9ac265",
   "metadata": {},
   "outputs": [],
   "source": [
    "methods_dict = {\n",
    "    'MaximumSequenceProbability': 'MSP',\n",
    "    'Perplexity': 'PPL',\n",
    "    'MeanTokenEntropy': 'MTE',\n",
    "    'MeanPointwiseMutualInformation': 'MPMI',\n",
    "    'MeanConditionalPointwiseMutualInformation': 'MCPMI',\n",
    "    'PTrue': 'PTrue',\n",
    "    'PTrueSampling': 'PTrueS',\n",
    "    'MonteCarloSequenceEntropy': 'MCSE',\n",
    "    'MonteCarloNormalizedSequenceEntropy': 'MCNSE',\n",
    "}\n",
    "\n",
    "DATASETS = [\n",
    "    'wmt14_csen',\n",
    "    'wmt14_deen',\n",
    "    'wmt14_ruen',\n",
    "    'wmt14_fren',\n",
    "    'wmt19_deen',\n",
    "    'wmt19_fien',\n",
    "    'wmt19_lten',\n",
    "    'wmt19_ruen',\n",
    "]\n",
    "\n",
    "all_metrics = ['Comet', 'BLEU']"
   ]
  },
  {
   "cell_type": "code",
   "execution_count": null,
   "id": "a337c6f1-08bd-450c-845e-22193f138f8d",
   "metadata": {
    "editable": true,
    "slideshow": {
     "slide_type": ""
    },
    "tags": []
   },
   "outputs": [],
   "source": [
    "coefs = defaultdict(list)\n",
    "\n",
    "for dataset in DATASETS:\n",
    "    train_ue_values, \\\n",
    "    test_ue_values, \\\n",
    "    train_metric_values, \\\n",
    "    test_metric_values, \\\n",
    "    train_gen_lengths, \\\n",
    "    gen_lengths = extract_and_prepare_data(dataset, methods_dict, all_metrics)\n",
    "    \n",
    "    upper_q = np.quantile(train_gen_lengths, 0.95)\n",
    "    lower_q = np.quantile(train_gen_lengths, 0.05)\n",
    "    below_q_ids = (train_gen_lengths < upper_q) & (train_gen_lengths > lower_q)\n",
    "    train_gen_lengths = train_gen_lengths[below_q_ids]\n",
    "    \n",
    "    train_normalized_metric_values = {}\n",
    "    test_normalized_metric_values = {}\n",
    "\n",
    "    fig, axs = plt.subplots(1, len(all_metrics), figsize=(8 * len(all_metrics), 7))\n",
    "    for i, metric in enumerate(all_metrics):\n",
    "        gen_length_scaler = MinMaxScaler()\n",
    "        train_gen_lengths_normalized = gen_length_scaler.fit_transform(train_gen_lengths[:, np.newaxis]).squeeze()\n",
    "        #test_gen_lengths_normalized = gen_length_scaler.transform(gen_lengths[:, np.newaxis]).squeeze()\n",
    "\n",
    "        train_metric = train_metric_values[metric][below_q_ids]\n",
    "        \n",
    "        scaler = MinMaxScaler()\n",
    "        train_normalized_metric_values[metric] = scaler.fit_transform(train_metric[:, np.newaxis]).squeeze()\n",
    "        train_linreg = sklearn.linear_model.LinearRegression()\n",
    "        train_linreg.fit(train_gen_lengths_normalized[:, np.newaxis], train_normalized_metric_values[metric])\n",
    "        coef = train_linreg.coef_[0]\n",
    "\n",
    "        # test_normalized_metric_values[metric] = scaler.transform(test_metric_values[metric][:, np.newaxis]).squeeze()\n",
    "\n",
    "        train_sort_order = np.argsort(train_gen_lengths_normalized)\n",
    "        #test_sort_order = np.argsort(test_gen_lengths_normalized)\n",
    "        \n",
    "        \n",
    "        ax = axs[i]\n",
    "        ax.plot(train_gen_lengths_normalized[train_sort_order], train_normalized_metric_values[metric][train_sort_order], label='train')\n",
    "        ax.plot(train_gen_lengths_normalized[train_sort_order], train_linreg.predict(train_gen_lengths_normalized[train_sort_order][:, np.newaxis]), label=f'train_pred: {round(coef,3)}')\n",
    "\n",
    "        #ax.plot(test_gen_lengths_normalized[test_sort_order], test_normalized_metric_values[metric][test_sort_order], label='test')\n",
    "        #ax.plot(test_gen_lengths_normalized[test_sort_order], train_linreg.predict(test_gen_lengths_normalized[test_sort_order][:, np.newaxis]), label='test_pred')\n",
    "        ax.legend()\n",
    "        ax.set_title(metric)\n",
    "        ax.set_xlabel('Generated sequence length (Normalized)')\n",
    "        ax.set_ylabel('Metric value (Normalized)')\n",
    "\n",
    "    fig.suptitle(dataset)\n",
    "\n",
    "    plt.tight_layout()\n",
    "    plt.show()"
   ]
  },
  {
   "cell_type": "code",
   "execution_count": null,
   "id": "41b006f0-29d6-4615-abb0-03e157908072",
   "metadata": {
    "editable": true,
    "slideshow": {
     "slide_type": ""
    },
    "tags": []
   },
   "outputs": [],
   "source": [
    "coefs = defaultdict(list)\n",
    "\n",
    "for dataset in DATASETS:\n",
    "    train_ue_values, \\\n",
    "    test_ue_values, \\\n",
    "    train_metric_values, \\\n",
    "    test_metric_values, \\\n",
    "    train_gen_lengths, \\\n",
    "    gen_lengths = extract_and_prepare_data(dataset, methods_dict, all_metrics)\n",
    "    \n",
    "    upper_q = np.quantile(train_gen_lengths, 0.95)\n",
    "    lower_q = np.quantile(train_gen_lengths, 0.05)\n",
    "    below_q_ids = (train_gen_lengths < upper_q) & (train_gen_lengths > lower_q)\n",
    "    train_gen_lengths = train_gen_lengths[below_q_ids]\n",
    "\n",
    "    fig, axs = plt.subplots(1, len(all_metrics), figsize=(8 * len(all_metrics), 7))\n",
    "    for i, metric in enumerate(all_metrics):\n",
    "        train_metric = train_metric_values[metric][below_q_ids]\n",
    "        \n",
    "        train_linreg = sklearn.linear_model.LinearRegression()\n",
    "        train_linreg.fit(train_gen_lengths[:, np.newaxis], train_metric)\n",
    "        coef = train_linreg.coef_[0]\n",
    "\n",
    "        # test_normalized_metric_values[metric] = scaler.transform(test_metric_values[metric][:, np.newaxis]).squeeze()\n",
    "\n",
    "        train_sort_order = np.argsort(train_gen_lengths)        \n",
    "        \n",
    "        ax = axs[i]\n",
    "        ax.plot(train_gen_lengths[train_sort_order], train_metric[train_sort_order], label='train')\n",
    "        ax.plot(train_gen_lengths[train_sort_order], train_linreg.predict(train_gen_lengths[train_sort_order][:, np.newaxis]), label=f'train_pred: {round(coef,3)}')\n",
    "\n",
    "        ax.legend()\n",
    "        ax.set_title(metric)\n",
    "        ax.set_xlabel('Generated sequence length (Normalized)')\n",
    "        ax.set_ylabel('Metric value (Normalized)')\n",
    "\n",
    "    fig.suptitle(dataset)\n",
    "\n",
    "    plt.tight_layout()\n",
    "    plt.show()"
   ]
  }
 ],
 "metadata": {
  "kernelspec": {
   "display_name": "Python 3 (ipykernel)",
   "language": "python",
   "name": "python3"
  },
  "language_info": {
   "codemirror_mode": {
    "name": "ipython",
    "version": 3
   },
   "file_extension": ".py",
   "mimetype": "text/x-python",
   "name": "python",
   "nbconvert_exporter": "python",
   "pygments_lexer": "ipython3",
   "version": "3.10.9"
  }
 },
 "nbformat": 4,
 "nbformat_minor": 5
}
